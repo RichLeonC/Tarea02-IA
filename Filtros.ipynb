{
 "cells": [
  {
   "cell_type": "markdown",
   "metadata": {},
   "source": [
    "# Filtros sobre imágenes\n",
    "\n",
    "Jeffrey Leiva Cascante 2021016720\n",
    "\n",
    "Richard León Chinchilla 2019003759\n",
    "\n"
   ]
  },
  {
   "cell_type": "markdown",
   "metadata": {},
   "source": [
    "## Carga de imágenes"
   ]
  },
  {
   "cell_type": "code",
   "execution_count": 71,
   "metadata": {},
   "outputs": [],
   "source": [
    "import cv2\n",
    "\n",
    "covid_image = cv2.imread(\"./Covid-dataset/train/Covid/COVID-00007.jpg\")\n",
    "normal_image = cv2.imread(\"./Covid-dataset/train/Normal/083.jpeg\")\n",
    "pneumonia_image = cv2.imread(\"./Covid-dataset/train/Viral Pneumonia/082.jpeg\")  \n",
    "\n",
    "#Convertir la imagen a escala de grises (1 canal)\n",
    "covid_image = cv2.cvtColor(covid_image, cv2.COLOR_BGR2GRAY)\n",
    "normal_image = cv2.cvtColor(normal_image, cv2.COLOR_BGR2GRAY)\n",
    "pneumonia_image = cv2.cvtColor(pneumonia_image, cv2.COLOR_BGR2GRAY)\n",
    "\n",
    "# Redimensionar la imagen\n",
    "scale_percent = 50\n",
    "width = int(covid_image.shape[1] * scale_percent / 100)\n",
    "height = int(covid_image.shape[0] * scale_percent / 100)\n",
    "dim = (width, height)\n",
    "\n",
    "covid_image = cv2.resize(covid_image, dim, interpolation = cv2.INTER_AREA)\n",
    "normal_image = cv2.resize(normal_image, dim, interpolation = cv2.INTER_AREA)\n",
    "pneumonia_image = cv2.resize(pneumonia_image, dim, interpolation = cv2.INTER_AREA)\n"
   ]
  },
  {
   "cell_type": "markdown",
   "metadata": {},
   "source": [
    "\n",
    "## Blur Filter\n",
    "\n",
    "### Covid"
   ]
  },
  {
   "cell_type": "code",
   "execution_count": 72,
   "metadata": {},
   "outputs": [],
   "source": [
    "blurred_covid = cv2.GaussianBlur(covid_image, (15, 15), 0) # 15x15 kernel\n",
    "\n",
    "cv2.imshow(\"Covid\", covid_image)\n",
    "cv2.imshow(\"Blurred Covid\", blurred_covid)\n",
    "cv2.waitKey(0)\n",
    "cv2.destroyAllWindows()"
   ]
  },
  {
   "cell_type": "markdown",
   "metadata": {},
   "source": [
    "### Normal"
   ]
  },
  {
   "cell_type": "code",
   "execution_count": 73,
   "metadata": {},
   "outputs": [],
   "source": [
    "blurred_normal = cv2.GaussianBlur(normal_image, (15, 15), 0)\n",
    "\n",
    "cv2.imshow(\"Normal\", normal_image)\n",
    "cv2.imshow(\"Blurred Normal\", blurred_normal)\n",
    "cv2.waitKey(0)\n",
    "cv2.destroyAllWindows()"
   ]
  },
  {
   "cell_type": "markdown",
   "metadata": {},
   "source": [
    "### Pneumonia"
   ]
  },
  {
   "cell_type": "code",
   "execution_count": 74,
   "metadata": {},
   "outputs": [],
   "source": [
    "blurred_pneumonia = cv2.GaussianBlur(pneumonia_image, (15, 15), 0)\n",
    "\n",
    "cv2.imshow(\"Pneumonia\", pneumonia_image)\n",
    "cv2.imshow(\"Blurred Pneumonia\", blurred_pneumonia)\n",
    "cv2.waitKey(0)\n",
    "cv2.destroyAllWindows()"
   ]
  },
  {
   "cell_type": "markdown",
   "metadata": {},
   "source": [
    "## Sobel Edge Detection\n",
    "\n",
    "### Covid"
   ]
  },
  {
   "cell_type": "code",
   "execution_count": 75,
   "metadata": {},
   "outputs": [],
   "source": [
    "#Sobel: Cv2.CV_64F evita la saturación de los bordes, 1, 1 son los valores de dx y dy, ksize es el tamaño del kernel\n",
    "sobel_covid = cv2.Sobel(covid_image, cv2.CV_64F, 1, 1, ksize=5)\n",
    "sobel_covid = cv2.convertScaleAbs(sobel_covid) #Convierte los valores negativos a positivos\n",
    "\n",
    "cv2.imshow(\"Covid\", covid_image)\n",
    "cv2.imshow(\"Sobel Covid\", sobel_covid)\n",
    "cv2.waitKey(0)\n",
    "cv2.destroyAllWindows()"
   ]
  },
  {
   "cell_type": "markdown",
   "metadata": {},
   "source": [
    "### Normal"
   ]
  },
  {
   "cell_type": "code",
   "execution_count": 76,
   "metadata": {},
   "outputs": [],
   "source": [
    "sobel_normal = cv2.Sobel(normal_image, cv2.CV_64F, 1, 1, ksize=5)\n",
    "sobel_normal = cv2.convertScaleAbs(sobel_normal)\n",
    "\n",
    "cv2.imshow(\"Normal\", normal_image)\n",
    "cv2.imshow(\"Sobel Normal\", sobel_normal)\n",
    "cv2.waitKey(0)\n",
    "cv2.destroyAllWindows()"
   ]
  },
  {
   "cell_type": "markdown",
   "metadata": {},
   "source": [
    "### Pneumonia"
   ]
  },
  {
   "cell_type": "code",
   "execution_count": 77,
   "metadata": {},
   "outputs": [],
   "source": [
    "sobel_pneumonia = cv2.Sobel(pneumonia_image, cv2.CV_64F, 1, 1, ksize=5)\n",
    "sobel_pneumonia = cv2.convertScaleAbs(sobel_pneumonia)\n",
    "\n",
    "cv2.imshow(\"Pneumonia\", pneumonia_image)\n",
    "cv2.imshow(\"Sobel Pneumonia\", sobel_pneumonia)\n",
    "cv2.waitKey(0)\n",
    "cv2.destroyAllWindows()"
   ]
  },
  {
   "cell_type": "markdown",
   "metadata": {},
   "source": [
    "## Canny Edge Detection\n",
    "\n",
    "### Covid"
   ]
  },
  {
   "cell_type": "code",
   "execution_count": 90,
   "metadata": {},
   "outputs": [],
   "source": [
    "\n",
    "canny_covid = cv2.Canny(covid_image, 50, 150)\n",
    "\n",
    "cv2.imshow(\"Covid\", covid_image)\n",
    "cv2.imshow(\"Canny Covid\", canny_covid)\n",
    "cv2.waitKey(0)\n",
    "cv2.destroyAllWindows()"
   ]
  },
  {
   "cell_type": "markdown",
   "metadata": {},
   "source": [
    "### Normal"
   ]
  },
  {
   "cell_type": "code",
   "execution_count": 91,
   "metadata": {},
   "outputs": [],
   "source": [
    "canny_normal = cv2.Canny(normal_image, 50, 150)\n",
    "\n",
    "cv2.imshow(\"Normal\", normal_image)\n",
    "cv2.imshow(\"Canny Normal\", canny_normal)\n",
    "cv2.waitKey(0)\n",
    "cv2.destroyAllWindows()"
   ]
  },
  {
   "cell_type": "markdown",
   "metadata": {},
   "source": [
    "### Pneumonia"
   ]
  },
  {
   "cell_type": "code",
   "execution_count": 92,
   "metadata": {},
   "outputs": [],
   "source": [
    "canny_pneumonia = cv2.Canny(pneumonia_image, 50, 150)\n",
    "\n",
    "cv2.imshow(\"Pneumonia\", pneumonia_image)\n",
    "cv2.imshow(\"Canny Pneumonia\", canny_pneumonia)\n",
    "cv2.waitKey(0)\n",
    "cv2.destroyAllWindows()"
   ]
  }
 ],
 "metadata": {
  "kernelspec": {
   "display_name": "base",
   "language": "python",
   "name": "python3"
  },
  "language_info": {
   "codemirror_mode": {
    "name": "ipython",
    "version": 3
   },
   "file_extension": ".py",
   "mimetype": "text/x-python",
   "name": "python",
   "nbconvert_exporter": "python",
   "pygments_lexer": "ipython3",
   "version": "3.12.4"
  }
 },
 "nbformat": 4,
 "nbformat_minor": 2
}
