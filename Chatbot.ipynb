{
 "cells": [
  {
   "cell_type": "markdown",
   "metadata": {},
   "source": [
    "# ChatBot\n",
    "\n",
    "Jeffrey Leiva Cascante 2021016720\n",
    "\n",
    "Richard León Chinchilla 2019003759"
   ]
  }
 ],
 "metadata": {
  "language_info": {
   "name": "python"
  }
 },
 "nbformat": 4,
 "nbformat_minor": 2
}
